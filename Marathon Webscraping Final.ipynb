{
 "cells": [
  {
   "cell_type": "markdown",
   "metadata": {},
   "source": [
    "# Webscraping marathon results from marathonguide.com\n",
    "\n",
    "Output not included on GitHub as prints 12k rows of marathons to check what's being uploaded\n",
    "\n",
    "[Marathonguide.com](http://www.marathonguide.com/) has a database of marathon results from c.2000 onwards. Each marathon documented has the database of names, times, place, place within sex, age group division (e.g Female 30-34), and whether or not the time would have qualified the person for the Boston Marathon (one of the most prestigious major road marathons in the World).\n",
    "\n",
    "\n",
    "\n",
    "The website has an overview for each marathon as well which typically documents any number of; finishers (also split male / female), winning finishing times (split male / female), average finish time, and standard deviation. It is this overview that I'll be using for scraping with the aim of analysing the following:\n",
    "- Whether average finishing time has improved in the past two decades\n",
    "- Whether technology has had an impact in marathon racing over the past two decades\n",
    "- Any other trends\n",
    "\n",
    "As of the last cell, there are only two errored marathon links, the links redirect to website maintence. There are no values in the dictionary as NA, and hence of the 12k marathons from 2000-2020 we have valid data for all but two of them."
   ]
  },
  {
   "cell_type": "code",
   "execution_count": null,
   "metadata": {},
   "outputs": [],
   "source": [
    "from bs4 import BeautifulSoup\n",
    "import requests\n",
    "import time\n",
    "import re\n",
    "import pandas as pd"
   ]
  },
  {
   "cell_type": "code",
   "execution_count": null,
   "metadata": {},
   "outputs": [],
   "source": [
    "#link to access results for each marathon\n",
    "link = 'http://www.marathonguide.com/results/'\n",
    "#set up dictionary to write into\n",
    "maras = {}\n",
    "errors = {}\n",
    "NA = ['NA', 'NA', 'NA', 'NA', 'NA', 'NA']\n",
    "\n",
    "#loop through each marathon and its link\n",
    "#sort out indexing for 00's and 10's\n",
    "for i in range(0, 21):\n",
    "    if i < 10:\n",
    "        m = \"0\" + str(i)\n",
    "    else:\n",
    "        m = str(i)\n",
    "    j = \"20\" + m\n",
    "    #specify year_URL in here as to not keep adding to the end of it\n",
    "    year_URL = 'http://www.marathonguide.com/results/browse.cfm?Year='\n",
    "    year_URL = year_URL + str(j)\n",
    "    print(year_URL)\n",
    "    page = requests.get(year_URL)\n",
    "    soup = BeautifulSoup(page.content, 'html.parser')\n",
    "    #find table with list of marathons by date\n",
    "    by_date = soup.find_all('table')[7].td\n",
    "    marathons = by_date.find_all('a')\n",
    "    #loop through each marathon in table\n",
    "    for marathon in marathons:\n",
    "        marathon_name = marathon.text\n",
    "        marathon_name = marathon_name + \" \" + j #naming as name + year\n",
    "        link_suffix = marathon['href']\n",
    "        URL = link + link_suffix\n",
    "        page = requests.get(URL)\n",
    "        soup = BeautifulSoup(page.content, 'html.parser')\n",
    "        try:\n",
    "            rel_table = soup.find_all('table')[8]\n",
    "            td = rel_table.find_all('td')[0]\n",
    "            try:\n",
    "                info_list = td.text.splitlines()\n",
    "                if info_list[3] == \"\":\n",
    "                    info_list = info_list[5:12] #for those entries with weird formatting\n",
    "                else:\n",
    "                    info_list = info_list[1:7] #cut out start and end of list\n",
    "                maras[marathon_name] = info_list\n",
    "            except:\n",
    "                maras[marathon_name] = NA\n",
    "        except:\n",
    "            print(URL)\n",
    "            errors[marathon_name] = URL\n",
    "            print('error')\n",
    "    print(marathon_name)"
   ]
  },
  {
   "cell_type": "code",
   "execution_count": null,
   "metadata": {},
   "outputs": [],
   "source": [
    "y = 0\n",
    "maras_series = {}\n",
    "for value in maras.values():\n",
    "    y += 1 #for simple naming the dictionary keys\n",
    "    maras_series[str(y)] = pd.Series(value)\n",
    "df = pd.DataFrame.from_dict(maras_series, orient = 'index') #save each entry as rows\n",
    "df.to_csv('marathons_all_no_index.csv', index = False)"
   ]
  },
  {
   "cell_type": "code",
   "execution_count": null,
   "metadata": {},
   "outputs": [],
   "source": [
    "print(errors)\n",
    "for key, value in maras.items():\n",
    "    if value == NA: print(key)"
   ]
  }
 ],
 "metadata": {
  "kernelspec": {
   "display_name": "Python 3",
   "language": "python",
   "name": "python3"
  },
  "language_info": {
   "codemirror_mode": {
    "name": "ipython",
    "version": 3
   },
   "file_extension": ".py",
   "mimetype": "text/x-python",
   "name": "python",
   "nbconvert_exporter": "python",
   "pygments_lexer": "ipython3",
   "version": "3.7.6"
  }
 },
 "nbformat": 4,
 "nbformat_minor": 4
}
